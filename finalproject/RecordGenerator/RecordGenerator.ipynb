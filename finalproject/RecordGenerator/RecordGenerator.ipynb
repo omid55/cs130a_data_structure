{
 "cells": [
  {
   "cell_type": "code",
   "execution_count": 106,
   "metadata": {
    "collapsed": false
   },
   "outputs": [],
   "source": [
    "# Record generator code for CS130A final project\n",
    "import random as rand\n",
    "import numpy as np\n",
    "\n",
    "# parameters\n",
    "records_cnt = 75\n",
    "maximum_num_friends = 25\n",
    "\n",
    "# loading all names\n",
    "f = open('names.txt', 'r');\n",
    "s = f.read()\n",
    "f.close()\n",
    "names = s.split(' ')\n",
    "names[-1] = names[-1][0:-1] # since the last name has \\n and we need to get rid of that\n",
    "\n",
    "rand.shuffle(names)\n",
    "names = names[0:records_cnt]\n",
    "\n",
    "# loading all occupations\n",
    "f = open('occupations.txt', 'r')\n",
    "jobs = np.array(f.readlines())\n",
    "f.close()\n",
    "for i in range(0,len(jobs)): # since the last character is \\n and we need to get rid of that\n",
    "    jobs[i] = jobs[i][0:-1]\n",
    "    \n",
    "# dictionary for keeping network between people\n",
    "net = {};\n",
    "f = open('Generated.txt', 'w')\n",
    "tmpNames = names.copy()\n",
    "for name in names:\n",
    "    job = rand.choice(jobs)\n",
    "    age = rand.randint(16,90)\n",
    "    tmpNames.remove(name)\n",
    "    friends = []\n",
    "    if name in net:\n",
    "        friends = net[name]\n",
    "    r = maximum_num_friends-len(friends)\n",
    "    if r > 0:\n",
    "        friends += rand.sample(tmpNames, min(len(tmpNames),rand.randint(0,r)))\n",
    "    for fr in friends:\n",
    "        if fr in net:\n",
    "            net[fr].append(name)\n",
    "        else:\n",
    "            net[fr] = [name]\n",
    "    record = name + ',' + str(age) + ',' + job + ',' + ','.join(map(str,friends))\n",
    "    f.write(record+'\\n')\n",
    "f.close()"
   ]
  },
  {
   "cell_type": "code",
   "execution_count": null,
   "metadata": {
    "collapsed": true
   },
   "outputs": [],
   "source": []
  },
  {
   "cell_type": "code",
   "execution_count": null,
   "metadata": {
    "collapsed": true
   },
   "outputs": [],
   "source": []
  }
 ],
 "metadata": {
  "kernelspec": {
   "display_name": "Python 3",
   "language": "python",
   "name": "python3"
  },
  "language_info": {
   "codemirror_mode": {
    "name": "ipython",
    "version": 3
   },
   "file_extension": ".py",
   "mimetype": "text/x-python",
   "name": "python",
   "nbconvert_exporter": "python",
   "pygments_lexer": "ipython3",
   "version": "3.4.3"
  }
 },
 "nbformat": 4,
 "nbformat_minor": 0
}
